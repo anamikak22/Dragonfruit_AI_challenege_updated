{
  "nbformat": 4,
  "nbformat_minor": 0,
  "metadata": {
    "colab": {
      "provenance": []
    },
    "kernelspec": {
      "name": "python3",
      "display_name": "Python 3"
    },
    "language_info": {
      "name": "python"
    }
  },
  "cells": [
    {
      "cell_type": "code",
      "source": [
        "import numpy as np\n",
        "import random\n",
        "import math"
      ],
      "metadata": {
        "id": "spaFWZ2oPADR"
      },
      "execution_count": 1,
      "outputs": []
    },
    {
      "cell_type": "markdown",
      "source": [
        "# Generation of Simulated Images"
      ],
      "metadata": {
        "id": "es2qyS7XGzes"
      }
    },
    {
      "cell_type": "code",
      "source": [
        "def generate_microscope_image(size):\n",
        "  \"\"\"\n",
        "  Creates a binary image with a random, blob-like parasite occupying 25% or more of the area.\n",
        "  \"\"\"\n",
        "  image = np.zeros((size, size))\n",
        "\n",
        "  # Ensure at least 25% of pixels are black (parasite)\n",
        "  parasite_area = 0.25\n",
        "  min_black_pixels = 0.25 * (size**2)\n",
        "  black_pixels = 0\n",
        "\n",
        "  # Start with a random seed pixel\n",
        "  x, y = random.randint(0, size-1), random.randint(0, size-1)\n",
        "  image[x][y] = 1\n",
        "  black_pixels += 1\n",
        "\n",
        "  # Perform a random walk to create a connected structure\n",
        "  for _ in range(int(min_black_pixels // 2)):\n",
        "    # Choose a random direction (up, down, left, right)\n",
        "    direction = random.choice([(0, 1), (0, -1), (1, 0), (-1, 0)])\n",
        "    new_x, new_y = x + direction[0], y + direction[1]\n",
        "\n",
        "    # Check if new position is within image bounds and not already black\n",
        "    if 0 <= new_x < size and 0 <= new_y < size and image[new_x][new_y] == 0:\n",
        "      x, y = new_x, new_y\n",
        "      image[x][y] = 1\n",
        "      black_pixels += 1\n",
        "\n",
        "  # Fill any small gaps within the initial structure to improve blob-likeness\n",
        "  fill_queue = [(x, y)]\n",
        "  while fill_queue:\n",
        "    x, y = fill_queue.pop(0)\n",
        "    for dx, dy in [(0, 1), (0, -1), (1, 0), (-1, 0)]:\n",
        "      new_x, new_y = x + dx, y + dy\n",
        "      if 0 <= new_x < size and 0 <= new_y < size and image[new_x][new_y] == 0:\n",
        "        image[new_x][new_y] = 1\n",
        "        black_pixels += 1\n",
        "        fill_queue.append((new_x, new_y))\n",
        "\n",
        "  # Add some noise for imperfections\n",
        "  for _ in range(int(size**2 * 0.01)):\n",
        "    x, y = random.randint(0, size-1), random.randint(0, size-1)\n",
        "    image[x][y] = 1\n",
        "\n",
        "  # Generate RLE data for each row\n",
        "  rle_data = {}\n",
        "  for y in range(size):\n",
        "    # Initialize variables for current run\n",
        "    runs = []\n",
        "    start_col = None\n",
        "    end_col = None\n",
        "    for x in range(size):\n",
        "      if image[y, x] == 0:  # Black pixel encountered\n",
        "        if start_col is None:  # Start of a new run\n",
        "          start_col = x\n",
        "        end_col = x  # Update end of current run\n",
        "      elif start_col is not None:  # End of a black pixel run\n",
        "        runs.append((start_col, end_col))  # Add run data (start, end)\n",
        "        start_col = None\n",
        "        end_col = None\n",
        "    # Add the last run if it exists\n",
        "    if start_col is not None:\n",
        "      rle_data[y] = runs\n",
        "\n",
        "  return rle_data"
      ],
      "metadata": {
        "id": "-1v-V7AB6fR3"
      },
      "execution_count": 2,
      "outputs": []
    },
    {
      "cell_type": "code",
      "source": [
        "# Sparse matrix representation is used for dye sensor images using dictionary as the lit pixels will be sparse\n",
        "\n",
        "def generate_dye_sensor_image(size, sparsity=0.001):\n",
        "  \"\"\"\n",
        "  Creates a sparse image with random luminescence points.\n",
        "  \"\"\"\n",
        "  image = []  # Use list for sparse representation of coordinates of lit pixels\n",
        "  num_lit_pixels = int(size**2 * sparsity)\n",
        "\n",
        "  # Generate starting point for vein\n",
        "  center_x = random.randint(1, size - 2)\n",
        "  center_y = random.randint(1, size - 2)\n",
        "\n",
        "  # Perform multiple random walks to create vein-like structure for the dye image\n",
        "  for _ in range(5):  # Number of random walks\n",
        "\n",
        "    current_x = center_x\n",
        "    current_y = center_y\n",
        "    num_steps = random.randint(0, num_lit_pixels)\n",
        "    num_lit_pixels -= num_steps\n",
        "\n",
        "    for _ in range(num_steps):\n",
        "      # Choose a random direction with some bias towards staying connected\n",
        "      directions = [(0, 1), (0, -1), (1, 0), (-1, 0)]\n",
        "      weight = [0.4, 0.2, 0.2, 0.2]  # Less bias towards staying connected\n",
        "      direction = random.choices(directions, weights=weight)[0]\n",
        "      new_x = current_x + direction[0]\n",
        "      new_y = current_y + direction[1]\n",
        "      # Check if new position is within parasite and not already lit\n",
        "      if 0 <= new_x < size and 0 <= new_y < size and (new_x, new_y) not in image:\n",
        "        # Add lit pixel to sparse matrix\n",
        "        image.append((new_x, new_y))\n",
        "        current_x = new_x\n",
        "        current_y = new_y\n",
        "\n",
        "  return image"
      ],
      "metadata": {
        "id": "j_oSIDx6DJLY"
      },
      "execution_count": 3,
      "outputs": []
    },
    {
      "cell_type": "markdown",
      "source": [
        "# Detection of Cancer"
      ],
      "metadata": {
        "id": "Ny0nFlMrJ7Xe"
      }
    },
    {
      "cell_type": "code",
      "source": [
        "def has_cancer(microscope_image, dye_image, cancer_threshold=0.1):\n",
        "  \"\"\"\n",
        "  Checks if a parasite has cancer based on dye intensity exceeding the threshold.\n",
        "  \"\"\"\n",
        "\n",
        "  # Calculate total dye intensity within parasite region\n",
        "  total_dye = 0\n",
        "  total_parasite_area = 0\n",
        "\n",
        "  for row in microscope_image.keys():\n",
        "    for run in microscope_image[row]:\n",
        "      total_parasite_area += run[1] - run[0] + 1\n",
        "      for i in range(run[0], run[1] + 1): # Check if any dye is present within each run of parasite pixels\n",
        "        if (row,i) in dye_image:\n",
        "          total_dye += 1\n",
        "\n",
        "  # Determine if dye intensity exceeds cancer threshold\n",
        "  return total_dye / total_parasite_area > cancer_threshold"
      ],
      "metadata": {
        "id": "cdKGgdm6EY-2"
      },
      "execution_count": 6,
      "outputs": []
    },
    {
      "cell_type": "markdown",
      "source": [
        "# Optimised Cancer Detection"
      ],
      "metadata": {
        "id": "8NtMycbAV2rO"
      }
    },
    {
      "cell_type": "code",
      "source": [
        "\"\"\"\n",
        "Optimised Cancer Detection, instead of calculating total_dye and total_parasite_area in the same nested loop which can go upto O(n^3), where n = size of the grid (100000),\n",
        "we use the fact that the num of lit pixels in the dye image will be very less and the approximate number of runs in each row of the microscope image will be very less (max 10-12),\n",
        "the time complexity reduces to O(n) for calculating the total_parasite_area and O(num_of_lit_pixels) for calculating total_dye within the parasite body.\n",
        "\"\"\"\n",
        "\n",
        "def has_cancer_optimised(microscope_image, dye_image, cancer_threshold=0.1):\n",
        "  \"\"\"\n",
        "  Checks if a parasite has cancer based on dye intensity exceeding the threshold.\n",
        "  \"\"\"\n",
        "\n",
        "  # Calculate total dye intensity within parasite region\n",
        "  total_dye = 0\n",
        "  total_parasite_area = 0\n",
        "\n",
        "  # Computing total_parasite_area using RLE representation of the microcope image\n",
        "  for row in microscope_image.keys():\n",
        "    for run in microscope_image[row]:\n",
        "      total_parasite_area += run[1] - run[0] + 1\n",
        "\n",
        "  for lit_pixel in dye_image:\n",
        "    for run in microscope_image[lit_pixel[0]]:\n",
        "      if(lit_pixel[1]>=run[0] and lit_pixel[1]<=run[1]): # Check if the dye coordinate lies within the parasite body\n",
        "        total_dye += 1\n",
        "        break\n",
        "    if(total_dye/total_parasite_area > cancer_threshold): # Early stopping for efficiency\n",
        "      return True\n",
        "\n",
        "  # Determine if dye intensity exceeds cancer threshold\n",
        "  return total_dye / total_parasite_area > cancer_threshold\n"
      ],
      "metadata": {
        "id": "85tUPn34QDom"
      },
      "execution_count": 8,
      "outputs": []
    }
  ]
}
